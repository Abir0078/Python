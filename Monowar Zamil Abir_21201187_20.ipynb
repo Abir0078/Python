{
 "cells": [
  {
   "cell_type": "code",
   "execution_count": 30,
   "id": "a04b1814",
   "metadata": {},
   "outputs": [
    {
     "name": "stdout",
     "output_type": "stream",
     "text": [
      "Enter a number: 5\n",
      "1#3#5\n",
      "1#3#5\n",
      "1#3#5\n",
      "1#3#5\n",
      "1#3#5\n"
     ]
    }
   ],
   "source": [
    "num=int(input(\"Enter a number: \"))\n",
    "count=0        \n",
    "if(num%2!=0):\n",
    "    for i in range(1,num+1):\n",
    "        for i in range(1,num+1):\n",
    "            if(i%2==0):\n",
    "                print(\"#\",end=\"\")\n",
    "            else:\n",
    "                print(i,end=\"\")\n",
    "            count+=1\n",
    "        print()\n",
    "else:\n",
    "    print(\"Invalid Number\")\n",
    "    "
   ]
  },
  {
   "cell_type": "code",
   "execution_count": null,
   "id": "06ac29fc",
   "metadata": {},
   "outputs": [],
   "source": []
  },
  {
   "cell_type": "code",
   "execution_count": null,
   "id": "370e1125",
   "metadata": {},
   "outputs": [],
   "source": []
  }
 ],
 "metadata": {
  "kernelspec": {
   "display_name": "Python 3",
   "language": "python",
   "name": "python3"
  },
  "language_info": {
   "codemirror_mode": {
    "name": "ipython",
    "version": 3
   },
   "file_extension": ".py",
   "mimetype": "text/x-python",
   "name": "python",
   "nbconvert_exporter": "python",
   "pygments_lexer": "ipython3",
   "version": "3.8.8"
  }
 },
 "nbformat": 4,
 "nbformat_minor": 5
}
